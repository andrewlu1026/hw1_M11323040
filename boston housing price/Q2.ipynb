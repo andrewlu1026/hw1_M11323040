{
 "cells": [
  {
   "cell_type": "markdown",
   "id": "1eea45a7-febf-4751-9fca-0875e23b270d",
   "metadata": {},
   "source": [
    "## Import data"
   ]
  },
  {
   "cell_type": "code",
   "execution_count": 1,
   "id": "ed4b41a5-986b-4f6a-b4d8-300d6dcedd78",
   "metadata": {},
   "outputs": [
    {
     "name": "stderr",
     "output_type": "stream",
     "text": [
      "2025-03-17 10:03:49.693787: E external/local_xla/xla/stream_executor/cuda/cuda_fft.cc:485] Unable to register cuFFT factory: Attempting to register factory for plugin cuFFT when one has already been registered\n",
      "2025-03-17 10:03:49.707620: E external/local_xla/xla/stream_executor/cuda/cuda_dnn.cc:8454] Unable to register cuDNN factory: Attempting to register factory for plugin cuDNN when one has already been registered\n",
      "2025-03-17 10:03:49.711899: E external/local_xla/xla/stream_executor/cuda/cuda_blas.cc:1452] Unable to register cuBLAS factory: Attempting to register factory for plugin cuBLAS when one has already been registered\n",
      "2025-03-17 10:03:49.722401: I tensorflow/core/platform/cpu_feature_guard.cc:210] This TensorFlow binary is optimized to use available CPU instructions in performance-critical operations.\n",
      "To enable the following instructions: AVX2 FMA, in other operations, rebuild TensorFlow with the appropriate compiler flags.\n"
     ]
    }
   ],
   "source": [
    "from tensorflow import keras\n",
    "from tensorflow.keras import layers\n",
    "from tensorflow.keras.datasets import boston_housing\n",
    "import math\n",
    "import matplotlib.pyplot as plt\n",
    "import numpy as np\n",
    "import pandas as pd"
   ]
  },
  {
   "cell_type": "markdown",
   "id": "b6a24607-a528-4aa1-9a29-76f94313716c",
   "metadata": {},
   "source": [
    "## Original data(already divide into training set & test set) \n",
    "    'CRIM',     # 城鎮人均犯罪率\n",
    "    'ZN',       # 佔地面積超過25,000平方呎的住宅用地比例\n",
    "    'INDUS',    # 城鎮非零售商業用地比例\n",
    "    'CHAS',     # 查爾斯河虛擬變量（1表示靠近河邊，0表示不靠近）\n",
    "    'NOX',      # 一氧化氮濃度（百萬分之一）\n",
    "    'RM',       # 每棟住宅的平均房間數\n",
    "    'AGE',      # 1940年以前建造的自住單位比例\n",
    "    'DIS',      # 與波士頓五個就業中心的加權距離\n",
    "    'RAD',      # 放射性公路的可達性指數\n",
    "    'TAX',      # 每10,000美元的全額財產稅率\n",
    "    'PTRATIO',  # 城鎮學生與教師比例\n",
    "    'B',        # 1000(Bk - 0.63)^2，其中Bk是城鎮黑人比例\n",
    "    'LSTAT',    # 人口中社會地位較低的百分比\n",
    "\n",
    "    Target：\n",
    "    'MEDV'      # 自有住宅的房價中位數，以千美元為單位。"
   ]
  },
  {
   "cell_type": "code",
   "execution_count": 2,
   "id": "6ea64d77-2c1e-46fa-84a7-0586cad69e17",
   "metadata": {
    "scrolled": true
   },
   "outputs": [
    {
     "name": "stdout",
     "output_type": "stream",
     "text": [
      "Training data:(404, 13)\n",
      "Test data:(102, 13)\n",
      "Training sample:\n",
      "CRIM: 1.23247\n",
      "ZN: 0.0\n",
      "INDUS: 8.14\n",
      "CHAS: 0.0\n",
      "NOX: 0.538\n",
      "RM: 6.142\n",
      "AGE: 91.7\n",
      "DIS: 3.9769\n",
      "RAD: 4.0\n",
      "TAX: 307.0\n",
      "PTRATIO: 21.0\n",
      "B: 396.9\n",
      "LSTAT: 18.72\n",
      "Targets sample:15.2\n"
     ]
    }
   ],
   "source": [
    "(train_data, train_targets), (test_data, test_targets) = boston_housing.load_data()\n",
    "print(f\"Training data:{train_data.shape}\")\n",
    "print(f\"Test data:{test_data.shape}\")\n",
    "\n",
    "feature_names = [\n",
    "    'CRIM',     # 城鎮人均犯罪率\n",
    "    'ZN',       # 佔地面積超過25,000平方呎的住宅用地比例\n",
    "    'INDUS',    # 城鎮非零售商業用地比例\n",
    "    'CHAS',     # 查爾斯河虛擬變量（1表示靠近河邊，0表示不靠近）\n",
    "    'NOX',      # 一氧化氮濃度（百萬分之一）\n",
    "    'RM',       # 每棟住宅的平均房間數\n",
    "    'AGE',      # 1940年以前建造的自住單位比例\n",
    "    'DIS',      # 與波士頓五個就業中心的加權距離\n",
    "    'RAD',      # 放射性公路的可達性指數\n",
    "    'TAX',      # 每10,000美元的全額財產稅率\n",
    "    'PTRATIO',  # 城鎮學生與教師比例\n",
    "    'B',        # 1000(Bk - 0.63)^2，其中Bk是城鎮黑人比例\n",
    "    'LSTAT',    # 人口中社會地位較低的百分比\n",
    "]\n",
    "\n",
    "train_df = pd.DataFrame(train_data, columns=feature_names)\n",
    "print(\"Training sample:\")\n",
    "for i, name in enumerate(feature_names):\n",
    "    print(f\"{name}: {train_data[0][i]}\")\n",
    "\n",
    "print(f\"Targets sample:{train_targets[0]}\")"
   ]
  },
  {
   "cell_type": "markdown",
   "id": "38a6b684-0c9e-4f75-aa09-dfa028119e33",
   "metadata": {},
   "source": [
    "## Feature Normalization\n",
    "- 對測試資料正規化時，正規化的數值要使用從訓練資料得出來的\n",
    "- 不能對測試資料做修改"
   ]
  },
  {
   "cell_type": "code",
   "execution_count": 3,
   "id": "59bbf632-4e0f-4534-a5cf-567aeba12759",
   "metadata": {},
   "outputs": [],
   "source": [
    "mean = train_data.mean(axis=0)\n",
    "train_data -= mean\n",
    "std = train_data.std(axis=0)\n",
    "train_data /= std\n",
    "\n",
    "test_data -= mean\n",
    "test_data /= std"
   ]
  },
  {
   "cell_type": "markdown",
   "id": "8df5938f-78e7-4ee5-83b3-95b185cff42b",
   "metadata": {},
   "source": [
    "## Q2. 測試不同激活函數所帶來的影響\n",
    "激活函數Activation function: Sigmoid、Softplus、ReLU\n",
    "\n",
    "固定參數: \n",
    "1. 隱藏層數Dense layer: 5\n",
    "2. 節點數Node: 128\n",
    "3. 世代epoch: 100\n",
    "4. 批次大小batch size: 16\n",
    "5. 優化器optimizer: adam"
   ]
  },
  {
   "cell_type": "code",
   "execution_count": 4,
   "id": "ee159b4d-29d7-4f62-a7d5-1ded663a3d86",
   "metadata": {},
   "outputs": [],
   "source": [
    "activation_functions = ['sigmoid', 'softplus', 'relu']\n",
    "\n",
    "results = []"
   ]
  },
  {
   "cell_type": "markdown",
   "id": "d57f2998-b33a-4ffc-8b54-ad367ea4357c",
   "metadata": {},
   "source": [
    "### 建構模型method"
   ]
  },
  {
   "cell_type": "code",
   "execution_count": 5,
   "id": "32c60426-4a45-4f17-822a-23a261be036d",
   "metadata": {},
   "outputs": [],
   "source": [
    "def build_model(activation_function):\n",
    "    model = keras.Sequential()\n",
    "    \n",
    "    model.add(layers.Dense(128, activation=activation_function))\n",
    "    for _ in range(5 - 1):\n",
    "        model.add(layers.Dense(128, activation=activation_function))\n",
    "    model.add(layers.Dense(1))\n",
    "    model.compile(optimizer=\"adam\", loss=\"mse\", metrics=[\"mae\", \"mse\", \"mape\"])\n",
    "    model.fit(train_data, train_targets,epochs=100,batch_size=16,validation_split=0.2,verbose=0)\n",
    "    train_metrics = model.evaluate(train_data, train_targets, verbose=0)\n",
    "    train_mae = train_metrics[1]\n",
    "    train_mse = train_metrics[2]\n",
    "    train_mape = train_metrics[3]\n",
    "    train_rmse = math.sqrt(train_mse)\n",
    "    test_metrics = model.evaluate(test_data, test_targets, verbose=0)\n",
    "    test_mae = test_metrics[1]\n",
    "    test_mse = test_metrics[2]\n",
    "    test_mape = test_metrics[3]\n",
    "    test_rmse = math.sqrt(test_mse)\n",
    "    return {\n",
    "        'activation_function': activation_function, \n",
    "        'train_mae': train_mae, \n",
    "        'train_rmse': train_rmse, \n",
    "        'train_mape': train_mape,\n",
    "        'test_mae': test_mae, \n",
    "        'test_rmse': test_rmse, \n",
    "        'test_mape': test_mape\n",
    "    }"
   ]
  },
  {
   "cell_type": "markdown",
   "id": "c3c1ae12-344f-408e-a32e-79685eac8eaa",
   "metadata": {},
   "source": [
    "### 訓練模型(所有排列組合)"
   ]
  },
  {
   "cell_type": "code",
   "execution_count": 6,
   "id": "ffca5c0f-3526-40fe-849b-2df0250ec03c",
   "metadata": {},
   "outputs": [
    {
     "name": "stdout",
     "output_type": "stream",
     "text": [
      "測試激活函數：sigmoid\n"
     ]
    },
    {
     "name": "stderr",
     "output_type": "stream",
     "text": [
      "WARNING: All log messages before absl::InitializeLog() is called are written to STDERR\n",
      "I0000 00:00:1742205833.685380   66395 cuda_executor.cc:1001] could not open file to read NUMA node: /sys/bus/pci/devices/0000:01:00.0/numa_node\n",
      "Your kernel may have been built without NUMA support.\n",
      "I0000 00:00:1742205833.702400   66395 cuda_executor.cc:1001] could not open file to read NUMA node: /sys/bus/pci/devices/0000:01:00.0/numa_node\n",
      "Your kernel may have been built without NUMA support.\n",
      "I0000 00:00:1742205833.702440   66395 cuda_executor.cc:1001] could not open file to read NUMA node: /sys/bus/pci/devices/0000:01:00.0/numa_node\n",
      "Your kernel may have been built without NUMA support.\n",
      "I0000 00:00:1742205833.704151   66395 cuda_executor.cc:1001] could not open file to read NUMA node: /sys/bus/pci/devices/0000:01:00.0/numa_node\n",
      "Your kernel may have been built without NUMA support.\n",
      "I0000 00:00:1742205833.704227   66395 cuda_executor.cc:1001] could not open file to read NUMA node: /sys/bus/pci/devices/0000:01:00.0/numa_node\n",
      "Your kernel may have been built without NUMA support.\n",
      "I0000 00:00:1742205833.704247   66395 cuda_executor.cc:1001] could not open file to read NUMA node: /sys/bus/pci/devices/0000:01:00.0/numa_node\n",
      "Your kernel may have been built without NUMA support.\n",
      "I0000 00:00:1742205833.870583   66395 cuda_executor.cc:1001] could not open file to read NUMA node: /sys/bus/pci/devices/0000:01:00.0/numa_node\n",
      "Your kernel may have been built without NUMA support.\n",
      "I0000 00:00:1742205833.870632   66395 cuda_executor.cc:1001] could not open file to read NUMA node: /sys/bus/pci/devices/0000:01:00.0/numa_node\n",
      "Your kernel may have been built without NUMA support.\n",
      "2025-03-17 10:03:53.870643: I tensorflow/core/common_runtime/gpu/gpu_device.cc:2112] Could not identify NUMA node of platform GPU id 0, defaulting to 0.  Your kernel may not have been built with NUMA support.\n",
      "I0000 00:00:1742205833.870675   66395 cuda_executor.cc:1001] could not open file to read NUMA node: /sys/bus/pci/devices/0000:01:00.0/numa_node\n",
      "Your kernel may have been built without NUMA support.\n",
      "2025-03-17 10:03:53.870695: I tensorflow/core/common_runtime/gpu/gpu_device.cc:2021] Created device /job:localhost/replica:0/task:0/device:GPU:0 with 1239 MB memory:  -> device: 0, name: NVIDIA GeForce RTX 2060 SUPER, pci bus id: 0000:01:00.0, compute capability: 7.5\n",
      "WARNING: All log messages before absl::InitializeLog() is called are written to STDERR\n",
      "I0000 00:00:1742205835.615872   66442 service.cc:146] XLA service 0x7f1a0801fa20 initialized for platform CUDA (this does not guarantee that XLA will be used). Devices:\n",
      "I0000 00:00:1742205835.615945   66442 service.cc:154]   StreamExecutor device (0): NVIDIA GeForce RTX 2060 SUPER, Compute Capability 7.5\n",
      "2025-03-17 10:03:55.648515: I tensorflow/compiler/mlir/tensorflow/utils/dump_mlir_util.cc:268] disabling MLIR crash reproducer, set env var `MLIR_CRASH_REPRODUCER_DIRECTORY` to enable.\n",
      "2025-03-17 10:03:55.811912: I external/local_xla/xla/stream_executor/cuda/cuda_dnn.cc:531] Loaded cuDNN version 8906\n",
      "I0000 00:00:1742205836.454924   66442 device_compiler.h:188] Compiled cluster using XLA!  This line is logged at most once for the lifetime of the process.\n"
     ]
    },
    {
     "name": "stdout",
     "output_type": "stream",
     "text": [
      "{'activation_function': 'sigmoid', 'train_mae': 2.7878613471984863, 'train_rmse': 4.204345979574802, 'train_mape': 12.910015106201172, 'test_mae': 3.466043710708618, 'test_rmse': 5.083408271779159, 'test_mape': 16.99478530883789}\n",
      "測試激活函數：softplus\n",
      "{'activation_function': 'softplus', 'train_mae': 2.1512503623962402, 'train_rmse': 2.893968782331688, 'train_mape': 11.276071548461914, 'test_mae': 2.823206663131714, 'test_rmse': 4.45367877930026, 'test_mape': 15.23805046081543}\n",
      "測試激活函數：relu\n",
      "{'activation_function': 'relu', 'train_mae': 1.2612940073013306, 'train_rmse': 2.1563255186263164, 'train_mape': 6.78611421585083, 'test_mae': 2.8207151889801025, 'test_rmse': 4.448706861191958, 'test_mape': 14.818090438842773}\n"
     ]
    }
   ],
   "source": [
    "for activation in activation_functions:\n",
    "    print(f\"測試激活函數：{activation}\")\n",
    "    result = build_model(activation)\n",
    "    results.append(result)\n",
    "    print(result)"
   ]
  },
  {
   "cell_type": "markdown",
   "id": "a486c4a5-cd74-4dbd-ab10-8f94e6c3402e",
   "metadata": {},
   "source": [
    "### Data frame"
   ]
  },
  {
   "cell_type": "code",
   "execution_count": 8,
   "id": "5e28051b-552c-4d49-b516-758921d573d8",
   "metadata": {},
   "outputs": [
    {
     "name": "stdout",
     "output_type": "stream",
     "text": [
      "\n",
      "訓練績效表現:\n",
      "       激活函數       MAE      RMSE       MAPE\n",
      "0   sigmoid  2.787861  4.204346  12.910015\n",
      "1  softplus  2.151250  2.893969  11.276072\n",
      "2      relu  1.261294  2.156326   6.786114\n",
      "\n",
      "測試績效表現:\n",
      "       激活函數       MAE      RMSE       MAPE\n",
      "0   sigmoid  3.466044  5.083408  16.994785\n",
      "1  softplus  2.823207  4.453679  15.238050\n",
      "2      relu  2.820715  4.448707  14.818090\n"
     ]
    }
   ],
   "source": [
    "train_results_df = pd.DataFrame([\n",
    "    {\n",
    "        '激活函數': r['activation_function'], \n",
    "        'MAE': r['train_mae'], 'RMSE': r['train_rmse'], 'MAPE': r['train_mape']\n",
    "    } for r in results\n",
    "])\n",
    "\n",
    "test_results_df = pd.DataFrame([\n",
    "    {\n",
    "        '激活函數': r['activation_function'],  \n",
    "        'MAE': r['test_mae'], 'RMSE': r['test_rmse'], 'MAPE': r['test_mape']\n",
    "    } for r in results\n",
    "])\n",
    "\n",
    "print(\"\\n訓練績效表現:\")\n",
    "print(train_results_df)\n",
    "\n",
    "print(\"\\n測試績效表現:\")\n",
    "print(test_results_df)"
   ]
  },
  {
   "cell_type": "code",
   "execution_count": 9,
   "id": "ad813e94-6332-47b9-af6a-c4edac54a639",
   "metadata": {},
   "outputs": [],
   "source": [
    "train_results_df.to_excel('Q2-1.xlsx', sheet_name='Q1', index=True, startrow=1, startcol=1)\n",
    "test_results_df.to_excel('Q2-2.xlsx', sheet_name='Q2', index=True, startrow=1, startcol=8)"
   ]
  },
  {
   "cell_type": "markdown",
   "id": "8d02e404-2ca7-444e-b0c3-9391994b411b",
   "metadata": {},
   "source": [
    "### reference\n",
    "1. boston dataset: https://lib.stat.cmu.edu/datasets/boston\n",
    "2. Boston Housing Price dataset with Keras(kaggle): https://www.kaggle.com/code/shanekonaung/boston-housing-price-dataset-with-keras"
   ]
  }
 ],
 "metadata": {
  "kernelspec": {
   "display_name": "Python 3 (ipykernel)",
   "language": "python",
   "name": "python3"
  },
  "language_info": {
   "codemirror_mode": {
    "name": "ipython",
    "version": 3
   },
   "file_extension": ".py",
   "mimetype": "text/x-python",
   "name": "python",
   "nbconvert_exporter": "python",
   "pygments_lexer": "ipython3",
   "version": "3.11.0rc1"
  }
 },
 "nbformat": 4,
 "nbformat_minor": 5
}
