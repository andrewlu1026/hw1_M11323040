{
 "cells": [
  {
   "cell_type": "markdown",
   "id": "1eea45a7-febf-4751-9fca-0875e23b270d",
   "metadata": {},
   "source": [
    "## Import data"
   ]
  },
  {
   "cell_type": "code",
   "execution_count": 1,
   "id": "ed4b41a5-986b-4f6a-b4d8-300d6dcedd78",
   "metadata": {},
   "outputs": [
    {
     "name": "stderr",
     "output_type": "stream",
     "text": [
      "2025-03-17 11:26:56.981667: E external/local_xla/xla/stream_executor/cuda/cuda_fft.cc:485] Unable to register cuFFT factory: Attempting to register factory for plugin cuFFT when one has already been registered\n",
      "2025-03-17 11:26:56.998487: E external/local_xla/xla/stream_executor/cuda/cuda_dnn.cc:8454] Unable to register cuDNN factory: Attempting to register factory for plugin cuDNN when one has already been registered\n",
      "2025-03-17 11:26:57.003367: E external/local_xla/xla/stream_executor/cuda/cuda_blas.cc:1452] Unable to register cuBLAS factory: Attempting to register factory for plugin cuBLAS when one has already been registered\n",
      "2025-03-17 11:26:57.016226: I tensorflow/core/platform/cpu_feature_guard.cc:210] This TensorFlow binary is optimized to use available CPU instructions in performance-critical operations.\n",
      "To enable the following instructions: AVX2 FMA, in other operations, rebuild TensorFlow with the appropriate compiler flags.\n"
     ]
    }
   ],
   "source": [
    "from tensorflow import keras\n",
    "from tensorflow.keras import layers\n",
    "from tensorflow.keras.datasets import boston_housing\n",
    "import math\n",
    "import matplotlib.pyplot as plt\n",
    "import numpy as np\n",
    "import pandas as pd\n",
    "import time"
   ]
  },
  {
   "cell_type": "markdown",
   "id": "b6a24607-a528-4aa1-9a29-76f94313716c",
   "metadata": {},
   "source": [
    "## Original data(already divide into training set & test set) \n",
    "    'CRIM',     # 城鎮人均犯罪率\n",
    "    'ZN',       # 佔地面積超過25,000平方呎的住宅用地比例\n",
    "    'INDUS',    # 城鎮非零售商業用地比例\n",
    "    'CHAS',     # 查爾斯河虛擬變量（1表示靠近河邊，0表示不靠近）\n",
    "    'NOX',      # 一氧化氮濃度（百萬分之一）\n",
    "    'RM',       # 每棟住宅的平均房間數\n",
    "    'AGE',      # 1940年以前建造的自住單位比例\n",
    "    'DIS',      # 與波士頓五個就業中心的加權距離\n",
    "    'RAD',      # 放射性公路的可達性指數\n",
    "    'TAX',      # 每10,000美元的全額財產稅率\n",
    "    'PTRATIO',  # 城鎮學生與教師比例\n",
    "    'B',        # 1000(Bk - 0.63)^2，其中Bk是城鎮黑人比例\n",
    "    'LSTAT',    # 人口中社會地位較低的百分比\n",
    "\n",
    "    Target：\n",
    "    'MEDV'      # 自有住宅的房價中位數，以千美元為單位。"
   ]
  },
  {
   "cell_type": "code",
   "execution_count": 2,
   "id": "6ea64d77-2c1e-46fa-84a7-0586cad69e17",
   "metadata": {
    "scrolled": true
   },
   "outputs": [
    {
     "name": "stdout",
     "output_type": "stream",
     "text": [
      "Training data:(404, 13)\n",
      "Test data:(102, 13)\n",
      "Training sample:\n",
      "CRIM: 1.23247\n",
      "ZN: 0.0\n",
      "INDUS: 8.14\n",
      "CHAS: 0.0\n",
      "NOX: 0.538\n",
      "RM: 6.142\n",
      "AGE: 91.7\n",
      "DIS: 3.9769\n",
      "RAD: 4.0\n",
      "TAX: 307.0\n",
      "PTRATIO: 21.0\n",
      "B: 396.9\n",
      "LSTAT: 18.72\n",
      "Targets sample:15.2\n"
     ]
    }
   ],
   "source": [
    "(train_data, train_targets), (test_data, test_targets) = boston_housing.load_data()\n",
    "print(f\"Training data:{train_data.shape}\")\n",
    "print(f\"Test data:{test_data.shape}\")\n",
    "\n",
    "feature_names = [\n",
    "    'CRIM',     # 城鎮人均犯罪率\n",
    "    'ZN',       # 佔地面積超過25,000平方呎的住宅用地比例\n",
    "    'INDUS',    # 城鎮非零售商業用地比例\n",
    "    'CHAS',     # 查爾斯河虛擬變量（1表示靠近河邊，0表示不靠近）\n",
    "    'NOX',      # 一氧化氮濃度（百萬分之一）\n",
    "    'RM',       # 每棟住宅的平均房間數\n",
    "    'AGE',      # 1940年以前建造的自住單位比例\n",
    "    'DIS',      # 與波士頓五個就業中心的加權距離\n",
    "    'RAD',      # 放射性公路的可達性指數\n",
    "    'TAX',      # 每10,000美元的全額財產稅率\n",
    "    'PTRATIO',  # 城鎮學生與教師比例\n",
    "    'B',        # 1000(Bk - 0.63)^2，其中Bk是城鎮黑人比例\n",
    "    'LSTAT',    # 人口中社會地位較低的百分比\n",
    "]\n",
    "\n",
    "train_df = pd.DataFrame(train_data, columns=feature_names)\n",
    "print(\"Training sample:\")\n",
    "for i, name in enumerate(feature_names):\n",
    "    print(f\"{name}: {train_data[0][i]}\")\n",
    "\n",
    "print(f\"Targets sample:{train_targets[0]}\")"
   ]
  },
  {
   "cell_type": "markdown",
   "id": "38a6b684-0c9e-4f75-aa09-dfa028119e33",
   "metadata": {},
   "source": [
    "## Feature Normalization\n",
    "- 對測試資料正規化時，正規化的數值要使用從訓練資料得出來的\n",
    "- 不能對測試資料做修改"
   ]
  },
  {
   "cell_type": "code",
   "execution_count": 3,
   "id": "59bbf632-4e0f-4534-a5cf-567aeba12759",
   "metadata": {},
   "outputs": [],
   "source": [
    "mean = train_data.mean(axis=0)\n",
    "train_data -= mean\n",
    "std = train_data.std(axis=0)\n",
    "train_data /= std\n",
    "\n",
    "test_data -= mean\n",
    "test_data /= std"
   ]
  },
  {
   "cell_type": "markdown",
   "id": "8df5938f-78e7-4ee5-83b3-95b185cff42b",
   "metadata": {},
   "source": [
    "## Q3. 測試不同世代及批次大小組合帶來的影響\n",
    "批次大小batch size: [8, 16, 32, 64, 128]  \n",
    "世代epoch: [20, 50, 100, 200]\n",
    "\n",
    "固定參數: \n",
    "1. 隱藏層數Dense layer: 5\n",
    "2. 激活函數Activation function: Sigmoid、Softplus、ReLU\n",
    "3. 節點數Node: 128\n",
    "4. 優化器optimizer: adam"
   ]
  },
  {
   "cell_type": "markdown",
   "id": "502f56d6-fb29-481a-ae90-ab39d8c50d39",
   "metadata": {},
   "source": [
    "## tip.因為有牽扯到計算執行時間問題，可能要加上執行環境  \n",
    "CPU: Intel(R) Core(TM) i7-7700 CPU @ 3.60GHz (8 CPUs)  \n",
    "GPU: NVIDIA GeForce RTX 2060 SUPER  \n",
    "VRAM: 8GB  \n",
    "RAM: 64GB"
   ]
  },
  {
   "cell_type": "code",
   "execution_count": 4,
   "id": "ee159b4d-29d7-4f62-a7d5-1ded663a3d86",
   "metadata": {},
   "outputs": [],
   "source": [
    "results = []"
   ]
  },
  {
   "cell_type": "markdown",
   "id": "d57f2998-b33a-4ffc-8b54-ad367ea4357c",
   "metadata": {},
   "source": [
    "### 建構模型method"
   ]
  },
  {
   "cell_type": "code",
   "execution_count": 5,
   "id": "32c60426-4a45-4f17-822a-23a261be036d",
   "metadata": {},
   "outputs": [],
   "source": [
    "def build_model(epochs, batch_size):\n",
    "    start_time = time.time()\n",
    "    model = keras.Sequential()\n",
    "    for _ in range(5):\n",
    "        if\n",
    "        model.add(layers.Dense(128, activation='relu'))\n",
    "    model.add(layers.Dense(1))\n",
    "    model.compile(optimizer=\"adam\", loss=\"mse\", metrics=[\"mae\", \"mse\", \"mape\"])\n",
    "    model.fit(train_data, train_targets,epochs=epochs,batch_size=batch_size,validation_split=0.2,verbose=0)\n",
    "    end_time = time.time()\n",
    "    execution_time = end_time - start_time\n",
    "    train_metrics = model.evaluate(train_data, train_targets, verbose=0)\n",
    "    train_mae = train_metrics[1]\n",
    "    train_mse = train_metrics[2]\n",
    "    train_mape = train_metrics[3]\n",
    "    train_rmse = math.sqrt(train_mse)\n",
    "    test_metrics = model.evaluate(test_data, test_targets, verbose=0)\n",
    "    test_mae = test_metrics[1]\n",
    "    test_mse = test_metrics[2]\n",
    "    test_mape = test_metrics[3]\n",
    "    test_rmse = math.sqrt(test_mse)\n",
    "    return {\n",
    "        'epochs': epochs,\n",
    "        'batch_size': batch_size, \n",
    "        'execution_time': execution_time,\n",
    "        'train_mae': train_mae, \n",
    "        'train_rmse': train_rmse, \n",
    "        'train_mape': train_mape,\n",
    "        'test_mae': test_mae, \n",
    "        'test_rmse': test_rmse, \n",
    "        'test_mape': test_mape\n",
    "    }"
   ]
  },
  {
   "cell_type": "markdown",
   "id": "c3c1ae12-344f-408e-a32e-79685eac8eaa",
   "metadata": {},
   "source": [
    "### 訓練模型(所有排列組合)"
   ]
  },
  {
   "cell_type": "code",
   "execution_count": 6,
   "id": "ffca5c0f-3526-40fe-849b-2df0250ec03c",
   "metadata": {},
   "outputs": [
    {
     "name": "stdout",
     "output_type": "stream",
     "text": [
      "訓練世代個數：20  批次大小：8 \n"
     ]
    },
    {
     "name": "stderr",
     "output_type": "stream",
     "text": [
      "WARNING: All log messages before absl::InitializeLog() is called are written to STDERR\n",
      "I0000 00:00:1742210819.445060   53360 cuda_executor.cc:1001] could not open file to read NUMA node: /sys/bus/pci/devices/0000:01:00.0/numa_node\n",
      "Your kernel may have been built without NUMA support.\n",
      "I0000 00:00:1742210819.450796   53360 cuda_executor.cc:1001] could not open file to read NUMA node: /sys/bus/pci/devices/0000:01:00.0/numa_node\n",
      "Your kernel may have been built without NUMA support.\n",
      "I0000 00:00:1742210819.450840   53360 cuda_executor.cc:1001] could not open file to read NUMA node: /sys/bus/pci/devices/0000:01:00.0/numa_node\n",
      "Your kernel may have been built without NUMA support.\n",
      "I0000 00:00:1742210819.452166   53360 cuda_executor.cc:1001] could not open file to read NUMA node: /sys/bus/pci/devices/0000:01:00.0/numa_node\n",
      "Your kernel may have been built without NUMA support.\n",
      "I0000 00:00:1742210819.452205   53360 cuda_executor.cc:1001] could not open file to read NUMA node: /sys/bus/pci/devices/0000:01:00.0/numa_node\n",
      "Your kernel may have been built without NUMA support.\n",
      "I0000 00:00:1742210819.452224   53360 cuda_executor.cc:1001] could not open file to read NUMA node: /sys/bus/pci/devices/0000:01:00.0/numa_node\n",
      "Your kernel may have been built without NUMA support.\n",
      "I0000 00:00:1742210819.609308   53360 cuda_executor.cc:1001] could not open file to read NUMA node: /sys/bus/pci/devices/0000:01:00.0/numa_node\n",
      "Your kernel may have been built without NUMA support.\n",
      "I0000 00:00:1742210819.609379   53360 cuda_executor.cc:1001] could not open file to read NUMA node: /sys/bus/pci/devices/0000:01:00.0/numa_node\n",
      "Your kernel may have been built without NUMA support.\n",
      "2025-03-17 11:26:59.609390: I tensorflow/core/common_runtime/gpu/gpu_device.cc:2112] Could not identify NUMA node of platform GPU id 0, defaulting to 0.  Your kernel may not have been built with NUMA support.\n",
      "I0000 00:00:1742210819.609424   53360 cuda_executor.cc:1001] could not open file to read NUMA node: /sys/bus/pci/devices/0000:01:00.0/numa_node\n",
      "Your kernel may have been built without NUMA support.\n",
      "2025-03-17 11:26:59.609447: I tensorflow/core/common_runtime/gpu/gpu_device.cc:2021] Created device /job:localhost/replica:0/task:0/device:GPU:0 with 6102 MB memory:  -> device: 0, name: NVIDIA GeForce RTX 2060 SUPER, pci bus id: 0000:01:00.0, compute capability: 7.5\n",
      "WARNING: All log messages before absl::InitializeLog() is called are written to STDERR\n",
      "I0000 00:00:1742210821.327491   53408 service.cc:146] XLA service 0x7fc5d000f790 initialized for platform CUDA (this does not guarantee that XLA will be used). Devices:\n",
      "I0000 00:00:1742210821.327537   53408 service.cc:154]   StreamExecutor device (0): NVIDIA GeForce RTX 2060 SUPER, Compute Capability 7.5\n",
      "2025-03-17 11:27:01.371396: I tensorflow/compiler/mlir/tensorflow/utils/dump_mlir_util.cc:268] disabling MLIR crash reproducer, set env var `MLIR_CRASH_REPRODUCER_DIRECTORY` to enable.\n",
      "2025-03-17 11:27:01.549474: I external/local_xla/xla/stream_executor/cuda/cuda_dnn.cc:531] Loaded cuDNN version 8906\n",
      "I0000 00:00:1742210822.058634   53408 device_compiler.h:188] Compiled cluster using XLA!  This line is logged at most once for the lifetime of the process.\n"
     ]
    },
    {
     "name": "stdout",
     "output_type": "stream",
     "text": [
      "{'epochs': 20, 'batch_size': 8, 'execution_time': 6.510602951049805, 'train_mae': 1.61283540725708, 'train_rmse': 2.342430760715009, 'train_mape': 8.379064559936523, 'test_mae': 3.0188286304473877, 'test_rmse': 4.477232877855887, 'test_mape': 14.91733455657959}\n",
      "訓練世代個數：20  批次大小：16 \n",
      "{'epochs': 20, 'batch_size': 16, 'execution_time': 5.714353322982788, 'train_mae': 1.8387140035629272, 'train_rmse': 2.721452969791076, 'train_mape': 9.061906814575195, 'test_mae': 3.0351552963256836, 'test_rmse': 4.653866356177112, 'test_mape': 14.52554702758789}\n",
      "訓練世代個數：20  批次大小：32 \n",
      "{'epochs': 20, 'batch_size': 32, 'execution_time': 6.330163240432739, 'train_mae': 2.3184659481048584, 'train_rmse': 3.1474916916450484, 'train_mape': 11.442035675048828, 'test_mae': 3.349687099456787, 'test_rmse': 5.1283539752877445, 'test_mape': 16.53521156311035}\n",
      "訓練世代個數：20  批次大小：64 \n",
      "{'epochs': 20, 'batch_size': 64, 'execution_time': 4.906162738800049, 'train_mae': 2.620302438735962, 'train_rmse': 3.682496766129762, 'train_mape': 13.3318510055542, 'test_mae': 3.53905987739563, 'test_rmse': 5.203905201745597, 'test_mape': 19.002342224121094}\n",
      "訓練世代個數：20  批次大小：128 \n",
      "{'epochs': 20, 'batch_size': 128, 'execution_time': 4.693315267562866, 'train_mae': 3.1566948890686035, 'train_rmse': 4.397410515096499, 'train_mape': 16.729644775390625, 'test_mae': 3.7933037281036377, 'test_rmse': 4.924257507123278, 'test_mape': 21.88825035095215}\n",
      "訓練世代個數：50  批次大小：8 \n",
      "{'epochs': 50, 'batch_size': 8, 'execution_time': 12.154858112335205, 'train_mae': 1.3400298357009888, 'train_rmse': 2.1645366273258477, 'train_mape': 6.941064357757568, 'test_mae': 2.7213804721832275, 'test_rmse': 4.5826483243505445, 'test_mape': 14.243658065795898}\n",
      "訓練世代個數：50  批次大小：16 \n",
      "{'epochs': 50, 'batch_size': 16, 'execution_time': 10.29193639755249, 'train_mae': 1.6610462665557861, 'train_rmse': 2.38458266247621, 'train_mape': 7.989309787750244, 'test_mae': 2.899160385131836, 'test_rmse': 4.29642597973488, 'test_mape': 13.733680725097656}\n",
      "訓練世代個數：50  批次大小：32 \n",
      "{'epochs': 50, 'batch_size': 32, 'execution_time': 7.694937705993652, 'train_mae': 1.6017661094665527, 'train_rmse': 2.3670260434122077, 'train_mape': 8.090563774108887, 'test_mae': 2.6561803817749023, 'test_rmse': 4.322222599551444, 'test_mape': 12.670625686645508}\n",
      "訓練世代個數：50  批次大小：64 \n",
      "{'epochs': 50, 'batch_size': 64, 'execution_time': 6.4306252002716064, 'train_mae': 2.0885374546051025, 'train_rmse': 2.9976819937770967, 'train_mape': 10.961005210876465, 'test_mae': 3.17496395111084, 'test_rmse': 5.097747731758164, 'test_mape': 17.01776695251465}\n",
      "訓練世代個數：50  批次大小：128 \n",
      "{'epochs': 50, 'batch_size': 128, 'execution_time': 6.1276466846466064, 'train_mae': 2.0657618045806885, 'train_rmse': 2.9715083107624274, 'train_mape': 10.327444076538086, 'test_mae': 3.2875099182128906, 'test_rmse': 5.1884417311024995, 'test_mape': 16.390615463256836}\n",
      "訓練世代個數：100  批次大小：8 \n",
      "{'epochs': 100, 'batch_size': 8, 'execution_time': 25.490759134292603, 'train_mae': 1.0442169904708862, 'train_rmse': 1.7354324141662198, 'train_mape': 5.114070415496826, 'test_mae': 2.8327839374542236, 'test_rmse': 4.537321035675802, 'test_mape': 14.45729923248291}\n",
      "訓練世代個數：100  批次大小：16 \n",
      "{'epochs': 100, 'batch_size': 16, 'execution_time': 17.386265754699707, 'train_mae': 1.1141767501831055, 'train_rmse': 1.7868144474664074, 'train_mape': 5.419058799743652, 'test_mae': 2.5371084213256836, 'test_rmse': 3.8647767847111285, 'test_mape': 12.93545913696289}\n",
      "訓練世代個數：100  批次大小：32 \n",
      "{'epochs': 100, 'batch_size': 32, 'execution_time': 12.009442329406738, 'train_mae': 1.087315559387207, 'train_rmse': 1.7933404408400317, 'train_mape': 5.64692497253418, 'test_mae': 2.62044358253479, 'test_rmse': 3.8935114559378827, 'test_mape': 13.495065689086914}\n",
      "訓練世代個數：100  批次大小：64 \n",
      "{'epochs': 100, 'batch_size': 64, 'execution_time': 11.424391746520996, 'train_mae': 1.6639679670333862, 'train_rmse': 2.405319628502372, 'train_mape': 8.31627082824707, 'test_mae': 2.9428603649139404, 'test_rmse': 4.427108848348655, 'test_mape': 14.485028266906738}\n",
      "訓練世代個數：100  批次大小：128 \n",
      "{'epochs': 100, 'batch_size': 128, 'execution_time': 8.479436159133911, 'train_mae': 1.5812921524047852, 'train_rmse': 2.3801389610370305, 'train_mape': 8.171764373779297, 'test_mae': 2.8335461616516113, 'test_rmse': 4.283584515124894, 'test_mape': 14.069458961486816}\n",
      "訓練世代個數：200  批次大小：8 \n",
      "{'epochs': 200, 'batch_size': 8, 'execution_time': 41.249059200286865, 'train_mae': 1.223136305809021, 'train_rmse': 2.2272690036933644, 'train_mape': 6.344606399536133, 'test_mae': 2.773906707763672, 'test_rmse': 4.326191494382713, 'test_mape': 14.74619197845459}\n",
      "訓練世代個數：200  批次大小：16 \n",
      "{'epochs': 200, 'batch_size': 16, 'execution_time': 30.82171940803528, 'train_mae': 0.967947244644165, 'train_rmse': 1.8761082870569583, 'train_mape': 4.969479560852051, 'test_mae': 2.7685205936431885, 'test_rmse': 4.367084645269679, 'test_mape': 14.005431175231934}\n",
      "訓練世代個數：200  批次大小：32 \n",
      "{'epochs': 200, 'batch_size': 32, 'execution_time': 22.32933783531189, 'train_mae': 1.0206594467163086, 'train_rmse': 1.7368321239756535, 'train_mape': 4.863562107086182, 'test_mae': 2.686833143234253, 'test_rmse': 3.932920911686759, 'test_mape': 14.045096397399902}\n",
      "訓練世代個數：200  批次大小：64 \n",
      "{'epochs': 200, 'batch_size': 64, 'execution_time': 17.690319776535034, 'train_mae': 1.6920069456100464, 'train_rmse': 2.284758286995076, 'train_mape': 8.222484588623047, 'test_mae': 2.9959073066711426, 'test_rmse': 4.384812604146992, 'test_mape': 13.858407974243164}\n",
      "訓練世代個數：200  批次大小：128 \n",
      "{'epochs': 200, 'batch_size': 128, 'execution_time': 14.005886554718018, 'train_mae': 1.2694718837738037, 'train_rmse': 1.9106883924535263, 'train_mape': 6.227777004241943, 'test_mae': 2.824347734451294, 'test_rmse': 3.897716019707963, 'test_mape': 13.942163467407227}\n",
      "訓練世代個數：300  批次大小：8 \n",
      "{'epochs': 300, 'batch_size': 8, 'execution_time': 64.6773247718811, 'train_mae': 0.9305244088172913, 'train_rmse': 1.7389330381341606, 'train_mape': 4.600001811981201, 'test_mae': 2.772540330886841, 'test_rmse': 3.7779751302244864, 'test_mape': 13.411617279052734}\n",
      "訓練世代個數：300  批次大小：16 \n",
      "{'epochs': 300, 'batch_size': 16, 'execution_time': 43.41426730155945, 'train_mae': 1.9487565755844116, 'train_rmse': 2.753391255592287, 'train_mape': 9.744715690612793, 'test_mae': 3.302227020263672, 'test_rmse': 4.763502705265453, 'test_mape': 17.398906707763672}\n",
      "訓練世代個數：300  批次大小：32 \n",
      "{'epochs': 300, 'batch_size': 32, 'execution_time': 31.873573541641235, 'train_mae': 0.8491354584693909, 'train_rmse': 1.5858171539496944, 'train_mape': 4.037495136260986, 'test_mae': 2.877750873565674, 'test_rmse': 4.325199612106974, 'test_mape': 14.400068283081055}\n",
      "訓練世代個數：300  批次大小：64 \n",
      "{'epochs': 300, 'batch_size': 64, 'execution_time': 23.767081022262573, 'train_mae': 1.019358515739441, 'train_rmse': 1.852457208589651, 'train_mape': 5.221320152282715, 'test_mae': 2.5985803604125977, 'test_rmse': 4.315584710421319, 'test_mape': 13.272590637207031}\n",
      "訓練世代個數：300  批次大小：128 \n",
      "{'epochs': 300, 'batch_size': 128, 'execution_time': 22.457768201828003, 'train_mae': 0.8836122751235962, 'train_rmse': 1.768881099411945, 'train_mape': 4.226417541503906, 'test_mae': 2.5349340438842773, 'test_rmse': 4.023079806232948, 'test_mape': 13.381808280944824}\n",
      "訓練世代個數：400  批次大小：8 \n",
      "{'epochs': 400, 'batch_size': 8, 'execution_time': 85.49769759178162, 'train_mae': 1.1077255010604858, 'train_rmse': 1.8206980546620024, 'train_mape': 5.20194673538208, 'test_mae': 2.5839786529541016, 'test_rmse': 3.621453358921963, 'test_mape': 12.965134620666504}\n",
      "訓練世代個數：400  批次大小：16 \n",
      "{'epochs': 400, 'batch_size': 16, 'execution_time': 54.87799859046936, 'train_mae': 0.851117730140686, 'train_rmse': 2.1537819711323625, 'train_mape': 4.325125217437744, 'test_mae': 2.913816213607788, 'test_rmse': 4.892192162919967, 'test_mape': 15.415067672729492}\n",
      "訓練世代個數：400  批次大小：32 \n",
      "{'epochs': 400, 'batch_size': 32, 'execution_time': 38.55778408050537, 'train_mae': 0.8144034743309021, 'train_rmse': 1.722841352348834, 'train_mape': 3.9696805477142334, 'test_mae': 2.7206575870513916, 'test_rmse': 4.222321983185022, 'test_mape': 13.687810897827148}\n",
      "訓練世代個數：400  批次大小：64 \n",
      "{'epochs': 400, 'batch_size': 64, 'execution_time': 32.66858530044556, 'train_mae': 1.4319438934326172, 'train_rmse': 2.0803240850033484, 'train_mape': 6.782677173614502, 'test_mae': 2.6579816341400146, 'test_rmse': 4.041307780793436, 'test_mape': 12.381957054138184}\n",
      "訓練世代個數：400  批次大小：128 \n",
      "{'epochs': 400, 'batch_size': 128, 'execution_time': 26.39310646057129, 'train_mae': 0.6933608055114746, 'train_rmse': 1.727573219768133, 'train_mape': 3.4038197994232178, 'test_mae': 2.519857406616211, 'test_rmse': 3.7792244522292067, 'test_mape': 13.04006576538086}\n",
      "訓練世代個數：500  批次大小：8 \n",
      "{'epochs': 500, 'batch_size': 8, 'execution_time': 111.51311421394348, 'train_mae': 0.7998536825180054, 'train_rmse': 1.8566661304059902, 'train_mape': 3.927297830581665, 'test_mae': 2.6805429458618164, 'test_rmse': 4.25266832847182, 'test_mape': 14.07596492767334}\n",
      "訓練世代個數：500  批次大小：16 \n",
      "{'epochs': 500, 'batch_size': 16, 'execution_time': 73.60199522972107, 'train_mae': 0.8831267952919006, 'train_rmse': 1.7441428121486846, 'train_mape': 4.261287212371826, 'test_mae': 2.6218652725219727, 'test_rmse': 3.8765640793858256, 'test_mape': 13.045150756835938}\n",
      "訓練世代個數：500  批次大小：32 \n",
      "{'epochs': 500, 'batch_size': 32, 'execution_time': 49.320626974105835, 'train_mae': 1.082810640335083, 'train_rmse': 1.9078824292113068, 'train_mape': 5.624697685241699, 'test_mae': 2.741546869277954, 'test_rmse': 4.285573961594626, 'test_mape': 14.165270805358887}\n",
      "訓練世代個數：500  批次大小：64 \n",
      "{'epochs': 500, 'batch_size': 64, 'execution_time': 38.83489179611206, 'train_mae': 0.9705552458763123, 'train_rmse': 1.9146608624069268, 'train_mape': 4.802027702331543, 'test_mae': 2.6020123958587646, 'test_rmse': 4.407377707461159, 'test_mape': 12.888712882995605}\n",
      "訓練世代個數：500  批次大小：128 \n",
      "{'epochs': 500, 'batch_size': 128, 'execution_time': 31.736361265182495, 'train_mae': 0.706072211265564, 'train_rmse': 1.7201442265478009, 'train_mape': 3.356245517730713, 'test_mae': 2.665569305419922, 'test_rmse': 3.993355119313552, 'test_mape': 13.35478687286377}\n"
     ]
    }
   ],
   "source": [
    "dprint(f\"訓練世代個數：{epochs}  批次大小：{batch_size} \")\n",
    "result = build_model(epochs, batch_size)\n",
    "results.append(result)\n",
    "print(result)"
   ]
  },
  {
   "cell_type": "markdown",
   "id": "a486c4a5-cd74-4dbd-ab10-8f94e6c3402e",
   "metadata": {},
   "source": [
    "### Data frame"
   ]
  },
  {
   "cell_type": "code",
   "execution_count": 7,
   "id": "5e28051b-552c-4d49-b516-758921d573d8",
   "metadata": {},
   "outputs": [
    {
     "name": "stdout",
     "output_type": "stream",
     "text": [
      "\n",
      "訓練績效表現:\n",
      "    世代個數  批次大小        執行時間       MAE      RMSE       MAPE\n",
      "0     20     8    6.510603  1.612835  2.342431   8.379065\n",
      "1     20    16    5.714353  1.838714  2.721453   9.061907\n",
      "2     20    32    6.330163  2.318466  3.147492  11.442036\n",
      "3     20    64    4.906163  2.620302  3.682497  13.331851\n",
      "4     20   128    4.693315  3.156695  4.397411  16.729645\n",
      "5     50     8   12.154858  1.340030  2.164537   6.941064\n",
      "6     50    16   10.291936  1.661046  2.384583   7.989310\n",
      "7     50    32    7.694938  1.601766  2.367026   8.090564\n",
      "8     50    64    6.430625  2.088537  2.997682  10.961005\n",
      "9     50   128    6.127647  2.065762  2.971508  10.327444\n",
      "10   100     8   25.490759  1.044217  1.735432   5.114070\n",
      "11   100    16   17.386266  1.114177  1.786814   5.419059\n",
      "12   100    32   12.009442  1.087316  1.793340   5.646925\n",
      "13   100    64   11.424392  1.663968  2.405320   8.316271\n",
      "14   100   128    8.479436  1.581292  2.380139   8.171764\n",
      "15   200     8   41.249059  1.223136  2.227269   6.344606\n",
      "16   200    16   30.821719  0.967947  1.876108   4.969480\n",
      "17   200    32   22.329338  1.020659  1.736832   4.863562\n",
      "18   200    64   17.690320  1.692007  2.284758   8.222485\n",
      "19   200   128   14.005887  1.269472  1.910688   6.227777\n",
      "20   300     8   64.677325  0.930524  1.738933   4.600002\n",
      "21   300    16   43.414267  1.948757  2.753391   9.744716\n",
      "22   300    32   31.873574  0.849135  1.585817   4.037495\n",
      "23   300    64   23.767081  1.019359  1.852457   5.221320\n",
      "24   300   128   22.457768  0.883612  1.768881   4.226418\n",
      "25   400     8   85.497698  1.107726  1.820698   5.201947\n",
      "26   400    16   54.877999  0.851118  2.153782   4.325125\n",
      "27   400    32   38.557784  0.814403  1.722841   3.969681\n",
      "28   400    64   32.668585  1.431944  2.080324   6.782677\n",
      "29   400   128   26.393106  0.693361  1.727573   3.403820\n",
      "30   500     8  111.513114  0.799854  1.856666   3.927298\n",
      "31   500    16   73.601995  0.883127  1.744143   4.261287\n",
      "32   500    32   49.320627  1.082811  1.907882   5.624698\n",
      "33   500    64   38.834892  0.970555  1.914661   4.802028\n",
      "34   500   128   31.736361  0.706072  1.720144   3.356246\n",
      "\n",
      "測試績效表現:\n",
      "    世代個數  批次大小        執行時間       MAE      RMSE       MAPE\n",
      "0     20     8    6.510603  3.018829  4.477233  14.917335\n",
      "1     20    16    5.714353  3.035155  4.653866  14.525547\n",
      "2     20    32    6.330163  3.349687  5.128354  16.535212\n",
      "3     20    64    4.906163  3.539060  5.203905  19.002342\n",
      "4     20   128    4.693315  3.793304  4.924258  21.888250\n",
      "5     50     8   12.154858  2.721380  4.582648  14.243658\n",
      "6     50    16   10.291936  2.899160  4.296426  13.733681\n",
      "7     50    32    7.694938  2.656180  4.322223  12.670626\n",
      "8     50    64    6.430625  3.174964  5.097748  17.017767\n",
      "9     50   128    6.127647  3.287510  5.188442  16.390615\n",
      "10   100     8   25.490759  2.832784  4.537321  14.457299\n",
      "11   100    16   17.386266  2.537108  3.864777  12.935459\n",
      "12   100    32   12.009442  2.620444  3.893511  13.495066\n",
      "13   100    64   11.424392  2.942860  4.427109  14.485028\n",
      "14   100   128    8.479436  2.833546  4.283585  14.069459\n",
      "15   200     8   41.249059  2.773907  4.326191  14.746192\n",
      "16   200    16   30.821719  2.768521  4.367085  14.005431\n",
      "17   200    32   22.329338  2.686833  3.932921  14.045096\n",
      "18   200    64   17.690320  2.995907  4.384813  13.858408\n",
      "19   200   128   14.005887  2.824348  3.897716  13.942163\n",
      "20   300     8   64.677325  2.772540  3.777975  13.411617\n",
      "21   300    16   43.414267  3.302227  4.763503  17.398907\n",
      "22   300    32   31.873574  2.877751  4.325200  14.400068\n",
      "23   300    64   23.767081  2.598580  4.315585  13.272591\n",
      "24   300   128   22.457768  2.534934  4.023080  13.381808\n",
      "25   400     8   85.497698  2.583979  3.621453  12.965135\n",
      "26   400    16   54.877999  2.913816  4.892192  15.415068\n",
      "27   400    32   38.557784  2.720658  4.222322  13.687811\n",
      "28   400    64   32.668585  2.657982  4.041308  12.381957\n",
      "29   400   128   26.393106  2.519857  3.779224  13.040066\n",
      "30   500     8  111.513114  2.680543  4.252668  14.075965\n",
      "31   500    16   73.601995  2.621865  3.876564  13.045151\n",
      "32   500    32   49.320627  2.741547  4.285574  14.165271\n",
      "33   500    64   38.834892  2.602012  4.407378  12.888713\n",
      "34   500   128   31.736361  2.665569  3.993355  13.354787\n"
     ]
    }
   ],
   "source": [
    "train_results_df = pd.DataFrame([\n",
    "    {\n",
    "        '世代個數': r['epochs'], '批次大小': r['batch_size'], '執行時間': r['execution_time'], \n",
    "        'MAE': r['train_mae'], 'RMSE': r['train_rmse'], 'MAPE': r['train_mape']\n",
    "    } for r in results\n",
    "])\n",
    "\n",
    "test_results_df = pd.DataFrame([\n",
    "    {\n",
    "        '世代個數': r['epochs'], '批次大小': r['batch_size'], '執行時間': r['execution_time'], \n",
    "        'MAE': r['test_mae'], 'RMSE': r['test_rmse'], 'MAPE': r['test_mape']\n",
    "    } for r in results\n",
    "])\n",
    "\n",
    "print(\"\\n訓練績效表現:\")\n",
    "print(train_results_df)\n",
    "\n",
    "print(\"\\n測試績效表現:\")\n",
    "print(test_results_df)"
   ]
  },
  {
   "cell_type": "code",
   "execution_count": 8,
   "id": "ad813e94-6332-47b9-af6a-c4edac54a639",
   "metadata": {},
   "outputs": [],
   "source": [
    "train_results_df.to_excel('Q3-1.xlsx', sheet_name='Q1', index=True, startrow=1, startcol=1)\n",
    "test_results_df.to_excel('Q3-2.xlsx', sheet_name='Q2', index=True, startrow=1, startcol=8)"
   ]
  },
  {
   "cell_type": "markdown",
   "id": "8d02e404-2ca7-444e-b0c3-9391994b411b",
   "metadata": {},
   "source": [
    "### reference\n",
    "1. boston dataset: https://lib.stat.cmu.edu/datasets/boston\n",
    "2. Boston Housing Price dataset with Keras(kaggle): https://www.kaggle.com/code/shanekonaung/boston-housing-price-dataset-with-keras"
   ]
  }
 ],
 "metadata": {
  "kernelspec": {
   "display_name": "Python 3 (ipykernel)",
   "language": "python",
   "name": "python3"
  },
  "language_info": {
   "codemirror_mode": {
    "name": "ipython",
    "version": 3
   },
   "file_extension": ".py",
   "mimetype": "text/x-python",
   "name": "python",
   "nbconvert_exporter": "python",
   "pygments_lexer": "ipython3",
   "version": "3.11.0rc1"
  }
 },
 "nbformat": 4,
 "nbformat_minor": 5
}
