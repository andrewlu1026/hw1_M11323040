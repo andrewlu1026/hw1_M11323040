{
 "cells": [
  {
   "cell_type": "markdown",
   "id": "1eea45a7-febf-4751-9fca-0875e23b270d",
   "metadata": {},
   "source": [
    "## Import data"
   ]
  },
  {
   "cell_type": "code",
   "execution_count": 1,
   "id": "ed4b41a5-986b-4f6a-b4d8-300d6dcedd78",
   "metadata": {},
   "outputs": [
    {
     "name": "stderr",
     "output_type": "stream",
     "text": [
      "2025-03-17 09:33:20.666674: E external/local_xla/xla/stream_executor/cuda/cuda_fft.cc:485] Unable to register cuFFT factory: Attempting to register factory for plugin cuFFT when one has already been registered\n",
      "2025-03-17 09:33:20.680196: E external/local_xla/xla/stream_executor/cuda/cuda_dnn.cc:8454] Unable to register cuDNN factory: Attempting to register factory for plugin cuDNN when one has already been registered\n",
      "2025-03-17 09:33:20.684429: E external/local_xla/xla/stream_executor/cuda/cuda_blas.cc:1452] Unable to register cuBLAS factory: Attempting to register factory for plugin cuBLAS when one has already been registered\n",
      "2025-03-17 09:33:20.694868: I tensorflow/core/platform/cpu_feature_guard.cc:210] This TensorFlow binary is optimized to use available CPU instructions in performance-critical operations.\n",
      "To enable the following instructions: AVX2 FMA, in other operations, rebuild TensorFlow with the appropriate compiler flags.\n"
     ]
    }
   ],
   "source": [
    "from tensorflow import keras\n",
    "from tensorflow.keras import layers\n",
    "from tensorflow.keras.datasets import boston_housing\n",
    "import math\n",
    "import matplotlib.pyplot as plt\n",
    "import numpy as np\n",
    "import pandas as pd"
   ]
  },
  {
   "cell_type": "markdown",
   "id": "b6a24607-a528-4aa1-9a29-76f94313716c",
   "metadata": {},
   "source": [
    "## Original data(already divide into training set & test set) \n",
    "    'CRIM',     # 城鎮人均犯罪率\n",
    "    'ZN',       # 佔地面積超過25,000平方呎的住宅用地比例\n",
    "    'INDUS',    # 城鎮非零售商業用地比例\n",
    "    'CHAS',     # 查爾斯河虛擬變量（1表示靠近河邊，0表示不靠近）\n",
    "    'NOX',      # 一氧化氮濃度（百萬分之一）\n",
    "    'RM',       # 每棟住宅的平均房間數\n",
    "    'AGE',      # 1940年以前建造的自住單位比例\n",
    "    'DIS',      # 與波士頓五個就業中心的加權距離\n",
    "    'RAD',      # 放射性公路的可達性指數\n",
    "    'TAX',      # 每10,000美元的全額財產稅率\n",
    "    'PTRATIO',  # 城鎮學生與教師比例\n",
    "    'B',        # 1000(Bk - 0.63)^2，其中Bk是城鎮黑人比例\n",
    "    'LSTAT',    # 人口中社會地位較低的百分比\n",
    "\n",
    "    Target：\n",
    "    'MEDV'      # 自有住宅的房價中位數，以千美元為單位。"
   ]
  },
  {
   "cell_type": "code",
   "execution_count": 2,
   "id": "6ea64d77-2c1e-46fa-84a7-0586cad69e17",
   "metadata": {
    "scrolled": true
   },
   "outputs": [
    {
     "name": "stdout",
     "output_type": "stream",
     "text": [
      "Training data:(404, 13)\n",
      "Test data:(102, 13)\n",
      "Training sample:\n",
      "CRIM: 1.23247\n",
      "ZN: 0.0\n",
      "INDUS: 8.14\n",
      "CHAS: 0.0\n",
      "NOX: 0.538\n",
      "RM: 6.142\n",
      "AGE: 91.7\n",
      "DIS: 3.9769\n",
      "RAD: 4.0\n",
      "TAX: 307.0\n",
      "PTRATIO: 21.0\n",
      "B: 396.9\n",
      "LSTAT: 18.72\n",
      "Targets sample:15.2\n"
     ]
    }
   ],
   "source": [
    "(train_data, train_targets), (test_data, test_targets) = boston_housing.load_data()\n",
    "print(f\"Training data:{train_data.shape}\")\n",
    "print(f\"Test data:{test_data.shape}\")\n",
    "\n",
    "feature_names = [\n",
    "    'CRIM',     # 城鎮人均犯罪率\n",
    "    'ZN',       # 佔地面積超過25,000平方呎的住宅用地比例\n",
    "    'INDUS',    # 城鎮非零售商業用地比例\n",
    "    'CHAS',     # 查爾斯河虛擬變量（1表示靠近河邊，0表示不靠近）\n",
    "    'NOX',      # 一氧化氮濃度（百萬分之一）\n",
    "    'RM',       # 每棟住宅的平均房間數\n",
    "    'AGE',      # 1940年以前建造的自住單位比例\n",
    "    'DIS',      # 與波士頓五個就業中心的加權距離\n",
    "    'RAD',      # 放射性公路的可達性指數\n",
    "    'TAX',      # 每10,000美元的全額財產稅率\n",
    "    'PTRATIO',  # 城鎮學生與教師比例\n",
    "    'B',        # 1000(Bk - 0.63)^2，其中Bk是城鎮黑人比例\n",
    "    'LSTAT',    # 人口中社會地位較低的百分比\n",
    "]\n",
    "\n",
    "train_df = pd.DataFrame(train_data, columns=feature_names)\n",
    "print(\"Training sample:\")\n",
    "for i, name in enumerate(feature_names):\n",
    "    print(f\"{name}: {train_data[0][i]}\")\n",
    "\n",
    "print(f\"Targets sample:{train_targets[0]}\")"
   ]
  },
  {
   "cell_type": "markdown",
   "id": "38a6b684-0c9e-4f75-aa09-dfa028119e33",
   "metadata": {},
   "source": [
    "## Feature Normalization\n",
    "- 對測試資料正規化時，正規化的數值要使用從訓練資料得出來的\n",
    "- 不能對測試資料做修改"
   ]
  },
  {
   "cell_type": "code",
   "execution_count": 3,
   "id": "59bbf632-4e0f-4534-a5cf-567aeba12759",
   "metadata": {},
   "outputs": [],
   "source": [
    "mean = train_data.mean(axis=0)\n",
    "train_data -= mean\n",
    "std = train_data.std(axis=0)\n",
    "train_data /= std\n",
    "\n",
    "test_data -= mean\n",
    "test_data /= std"
   ]
  },
  {
   "cell_type": "markdown",
   "id": "8df5938f-78e7-4ee5-83b3-95b185cff42b",
   "metadata": {},
   "source": [
    "## Q1. 測試模型深度與節點數的影響（使用以下進行排列組合） \n",
    "隱藏層數Dense layer: 1, 2, 3, 4, 5, 6, 7  \n",
    "節點數Node: 16, 32, 64, 128 \n",
    "\n",
    "固定參數: \n",
    "1. 激活函數Activation function: ReLU\n",
    "2. 世代epoch: 100\n",
    "3. 批次大小batch size: 16\n",
    "4. 優化器optimizer: adam"
   ]
  },
  {
   "cell_type": "code",
   "execution_count": 4,
   "id": "ee159b4d-29d7-4f62-a7d5-1ded663a3d86",
   "metadata": {},
   "outputs": [],
   "source": [
    "hidden_layers = [1, 2, 3, 4, 5, 6, 7]\n",
    "hidden_nodes = [16, 32, 64, 128]\n",
    "\n",
    "results = []"
   ]
  },
  {
   "cell_type": "markdown",
   "id": "d57f2998-b33a-4ffc-8b54-ad367ea4357c",
   "metadata": {},
   "source": [
    "### 建構模型method"
   ]
  },
  {
   "cell_type": "code",
   "execution_count": 5,
   "id": "32c60426-4a45-4f17-822a-23a261be036d",
   "metadata": {},
   "outputs": [],
   "source": [
    "def build_model(num_of_layers, num_of_nodes):\n",
    "    model = keras.Sequential()\n",
    "    \n",
    "    model.add(layers.Dense(num_of_nodes, activation='relu'))\n",
    "    for _ in range(num_of_layers - 1):\n",
    "        model.add(layers.Dense(num_of_nodes, activation='relu'))\n",
    "    model.add(layers.Dense(1))\n",
    "    model.compile(optimizer=\"adam\", loss=\"mse\", metrics=[\"mae\", \"mse\", \"mape\"])\n",
    "    model.fit(train_data, train_targets,epochs=100,batch_size=16,validation_split=0.2,verbose=0)\n",
    "    train_metrics = model.evaluate(train_data, train_targets, verbose=0)\n",
    "    train_mae = train_metrics[1]\n",
    "    train_mse = train_metrics[2]\n",
    "    train_mape = train_metrics[3]\n",
    "    train_rmse = math.sqrt(train_mse)\n",
    "    test_metrics = model.evaluate(test_data, test_targets, verbose=0)\n",
    "    test_mae = test_metrics[1]\n",
    "    test_mse = test_metrics[2]\n",
    "    test_mape = test_metrics[3]\n",
    "    test_rmse = math.sqrt(test_mse)\n",
    "    return {\n",
    "        'num_of_layers': num_of_layers,\n",
    "        'num_of_nodes': num_of_nodes, \n",
    "        'train_mae': train_mae, \n",
    "        'train_rmse': train_rmse, \n",
    "        'train_mape': train_mape,\n",
    "        'test_mae': test_mae, \n",
    "        'test_rmse': test_rmse, \n",
    "        'test_mape': test_mape\n",
    "    }"
   ]
  },
  {
   "cell_type": "markdown",
   "id": "c3c1ae12-344f-408e-a32e-79685eac8eaa",
   "metadata": {},
   "source": [
    "### 訓練模型(所有排列組合)"
   ]
  },
  {
   "cell_type": "code",
   "execution_count": 6,
   "id": "ffca5c0f-3526-40fe-849b-2df0250ec03c",
   "metadata": {},
   "outputs": [
    {
     "name": "stdout",
     "output_type": "stream",
     "text": [
      "訓練層數：1  節點數：16 \n"
     ]
    },
    {
     "name": "stderr",
     "output_type": "stream",
     "text": [
      "WARNING: All log messages before absl::InitializeLog() is called are written to STDERR\n",
      "I0000 00:00:1742204004.521051   95881 cuda_executor.cc:1001] could not open file to read NUMA node: /sys/bus/pci/devices/0000:01:00.0/numa_node\n",
      "Your kernel may have been built without NUMA support.\n",
      "I0000 00:00:1742204004.536997   95881 cuda_executor.cc:1001] could not open file to read NUMA node: /sys/bus/pci/devices/0000:01:00.0/numa_node\n",
      "Your kernel may have been built without NUMA support.\n",
      "I0000 00:00:1742204004.537037   95881 cuda_executor.cc:1001] could not open file to read NUMA node: /sys/bus/pci/devices/0000:01:00.0/numa_node\n",
      "Your kernel may have been built without NUMA support.\n",
      "I0000 00:00:1742204004.538708   95881 cuda_executor.cc:1001] could not open file to read NUMA node: /sys/bus/pci/devices/0000:01:00.0/numa_node\n",
      "Your kernel may have been built without NUMA support.\n",
      "I0000 00:00:1742204004.538742   95881 cuda_executor.cc:1001] could not open file to read NUMA node: /sys/bus/pci/devices/0000:01:00.0/numa_node\n",
      "Your kernel may have been built without NUMA support.\n",
      "I0000 00:00:1742204004.538761   95881 cuda_executor.cc:1001] could not open file to read NUMA node: /sys/bus/pci/devices/0000:01:00.0/numa_node\n",
      "Your kernel may have been built without NUMA support.\n",
      "I0000 00:00:1742204004.681011   95881 cuda_executor.cc:1001] could not open file to read NUMA node: /sys/bus/pci/devices/0000:01:00.0/numa_node\n",
      "Your kernel may have been built without NUMA support.\n",
      "I0000 00:00:1742204004.681068   95881 cuda_executor.cc:1001] could not open file to read NUMA node: /sys/bus/pci/devices/0000:01:00.0/numa_node\n",
      "Your kernel may have been built without NUMA support.\n",
      "2025-03-17 09:33:24.681079: I tensorflow/core/common_runtime/gpu/gpu_device.cc:2112] Could not identify NUMA node of platform GPU id 0, defaulting to 0.  Your kernel may not have been built with NUMA support.\n",
      "I0000 00:00:1742204004.681112   95881 cuda_executor.cc:1001] could not open file to read NUMA node: /sys/bus/pci/devices/0000:01:00.0/numa_node\n",
      "Your kernel may have been built without NUMA support.\n",
      "2025-03-17 09:33:24.681132: I tensorflow/core/common_runtime/gpu/gpu_device.cc:2021] Created device /job:localhost/replica:0/task:0/device:GPU:0 with 6102 MB memory:  -> device: 0, name: NVIDIA GeForce RTX 2060 SUPER, pci bus id: 0000:01:00.0, compute capability: 7.5\n",
      "WARNING: All log messages before absl::InitializeLog() is called are written to STDERR\n",
      "I0000 00:00:1742204005.790352   95929 service.cc:146] XLA service 0x7f1a20008d60 initialized for platform CUDA (this does not guarantee that XLA will be used). Devices:\n",
      "I0000 00:00:1742204005.790400   95929 service.cc:154]   StreamExecutor device (0): NVIDIA GeForce RTX 2060 SUPER, Compute Capability 7.5\n",
      "2025-03-17 09:33:25.810234: I tensorflow/compiler/mlir/tensorflow/utils/dump_mlir_util.cc:268] disabling MLIR crash reproducer, set env var `MLIR_CRASH_REPRODUCER_DIRECTORY` to enable.\n",
      "2025-03-17 09:33:25.896011: I external/local_xla/xla/stream_executor/cuda/cuda_dnn.cc:531] Loaded cuDNN version 8906\n",
      "I0000 00:00:1742204006.287121   95929 device_compiler.h:188] Compiled cluster using XLA!  This line is logged at most once for the lifetime of the process.\n"
     ]
    },
    {
     "name": "stdout",
     "output_type": "stream",
     "text": [
      "{'num_of_layers': 1, 'num_of_nodes': 16, 'train_mae': 3.262439012527466, 'train_rmse': 4.5610150572719155, 'train_mape': 16.36998176574707, 'test_mae': 3.8859498500823975, 'test_rmse': 4.912864357052401, 'test_mape': 21.428674697875977}\n",
      "訓練層數：1  節點數：32 \n",
      "{'num_of_layers': 1, 'num_of_nodes': 32, 'train_mae': 2.7678709030151367, 'train_rmse': 3.883825895208171, 'train_mape': 13.986145973205566, 'test_mae': 3.683199405670166, 'test_rmse': 4.855154676399373, 'test_mape': 19.67266082763672}\n",
      "訓練層數：1  節點數：64 \n",
      "{'num_of_layers': 1, 'num_of_nodes': 64, 'train_mae': 2.2797229290008545, 'train_rmse': 3.2835301787208095, 'train_mape': 11.450716018676758, 'test_mae': 3.209524393081665, 'test_rmse': 4.680246870588486, 'test_mape': 16.459949493408203}\n",
      "訓練層數：1  節點數：128 \n",
      "{'num_of_layers': 1, 'num_of_nodes': 128, 'train_mae': 2.1005043983459473, 'train_rmse': 3.036166578947405, 'train_mape': 10.469404220581055, 'test_mae': 3.112743854522705, 'test_rmse': 4.817397758851992, 'test_mape': 15.573625564575195}\n",
      "訓練層數：2  節點數：16 \n",
      "{'num_of_layers': 2, 'num_of_nodes': 16, 'train_mae': 2.2010440826416016, 'train_rmse': 3.1160479687976013, 'train_mape': 11.203763008117676, 'test_mae': 3.078265905380249, 'test_rmse': 4.664873164538919, 'test_mape': 15.841887474060059}\n",
      "訓練層數：2  節點數：32 \n",
      "{'num_of_layers': 2, 'num_of_nodes': 32, 'train_mae': 1.9494035243988037, 'train_rmse': 2.8251725270749852, 'train_mape': 9.919171333312988, 'test_mae': 3.051313877105713, 'test_rmse': 4.577912934374877, 'test_mape': 15.373032569885254}\n",
      "訓練層數：2  節點數：64 \n",
      "{'num_of_layers': 2, 'num_of_nodes': 64, 'train_mae': 1.8266021013259888, 'train_rmse': 2.707303208290696, 'train_mape': 9.153197288513184, 'test_mae': 2.9512932300567627, 'test_rmse': 4.739722728426042, 'test_mape': 14.495757102966309}\n",
      "訓練層數：2  節點數：128 \n",
      "{'num_of_layers': 2, 'num_of_nodes': 128, 'train_mae': 1.6169642210006714, 'train_rmse': 2.4636608737441668, 'train_mape': 8.379547119140625, 'test_mae': 2.8398191928863525, 'test_rmse': 4.456439795605396, 'test_mape': 14.01028060913086}\n",
      "訓練層數：3  節點數：16 \n",
      "{'num_of_layers': 3, 'num_of_nodes': 16, 'train_mae': 2.064284086227417, 'train_rmse': 2.9090800298682438, 'train_mape': 10.591621398925781, 'test_mae': 3.1114070415496826, 'test_rmse': 5.108913389112802, 'test_mape': 15.4058198928833}\n",
      "訓練層數：3  節點數：32 \n",
      "{'num_of_layers': 3, 'num_of_nodes': 32, 'train_mae': 1.7996501922607422, 'train_rmse': 2.687666688229823, 'train_mape': 9.258733749389648, 'test_mae': 3.022631883621216, 'test_rmse': 4.778966221129858, 'test_mape': 15.56371784210205}\n",
      "訓練層數：3  節點數：64 \n",
      "{'num_of_layers': 3, 'num_of_nodes': 64, 'train_mae': 1.5423694849014282, 'train_rmse': 2.414234439195722, 'train_mape': 7.853667259216309, 'test_mae': 2.865243911743164, 'test_rmse': 4.354665967917478, 'test_mape': 14.248808860778809}\n",
      "訓練層數：3  節點數：128 \n",
      "{'num_of_layers': 3, 'num_of_nodes': 128, 'train_mae': 1.1870609521865845, 'train_rmse': 1.8603229830892032, 'train_mape': 5.8221845626831055, 'test_mae': 2.634071111679077, 'test_rmse': 3.9059225937009296, 'test_mape': 13.29763412475586}\n",
      "訓練層數：4  節點數：16 \n",
      "{'num_of_layers': 4, 'num_of_nodes': 16, 'train_mae': 1.92710542678833, 'train_rmse': 2.869938084535941, 'train_mape': 9.705063819885254, 'test_mae': 2.9126129150390625, 'test_rmse': 4.595278738572957, 'test_mape': 14.246881484985352}\n",
      "訓練層數：4  節點數：32 \n",
      "{'num_of_layers': 4, 'num_of_nodes': 32, 'train_mae': 1.5522749423980713, 'train_rmse': 2.3535364933592446, 'train_mape': 8.223660469055176, 'test_mae': 2.8638248443603516, 'test_rmse': 4.5912971435585845, 'test_mape': 15.091571807861328}\n",
      "訓練層數：4  節點數：64 \n",
      "{'num_of_layers': 4, 'num_of_nodes': 64, 'train_mae': 1.2225234508514404, 'train_rmse': 1.9509784957779928, 'train_mape': 6.0806684494018555, 'test_mae': 2.7552926540374756, 'test_rmse': 4.039762749834596, 'test_mape': 13.382745742797852}\n",
      "訓練層數：4  節點數：128 \n",
      "{'num_of_layers': 4, 'num_of_nodes': 128, 'train_mae': 1.139249563217163, 'train_rmse': 1.9378882603629937, 'train_mape': 5.847596645355225, 'test_mae': 2.646209716796875, 'test_rmse': 4.3841644214788005, 'test_mape': 14.29963207244873}\n",
      "訓練層數：5  節點數：16 \n",
      "{'num_of_layers': 5, 'num_of_nodes': 16, 'train_mae': 1.9656263589859009, 'train_rmse': 2.8737191373902613, 'train_mape': 10.061538696289062, 'test_mae': 3.313969612121582, 'test_rmse': 5.182547905751586, 'test_mape': 16.831422805786133}\n",
      "訓練層數：5  節點數：32 \n",
      "{'num_of_layers': 5, 'num_of_nodes': 32, 'train_mae': 1.686995506286621, 'train_rmse': 2.5616464821643445, 'train_mape': 9.296262741088867, 'test_mae': 3.1233582496643066, 'test_rmse': 5.037099719176961, 'test_mape': 17.068750381469727}\n",
      "訓練層數：5  節點數：64 \n",
      "{'num_of_layers': 5, 'num_of_nodes': 64, 'train_mae': 1.6683571338653564, 'train_rmse': 2.4311937771844634, 'train_mape': 7.899959087371826, 'test_mae': 3.2817344665527344, 'test_rmse': 4.707843631270493, 'test_mape': 16.226547241210938}\n",
      "訓練層數：5  節點數：128 \n",
      "{'num_of_layers': 5, 'num_of_nodes': 128, 'train_mae': 1.1409326791763306, 'train_rmse': 1.667998838488314, 'train_mape': 5.545121192932129, 'test_mae': 2.5421690940856934, 'test_rmse': 3.7275670774834717, 'test_mape': 12.437015533447266}\n",
      "訓練層數：6  節點數：16 \n",
      "{'num_of_layers': 6, 'num_of_nodes': 16, 'train_mae': 1.919060468673706, 'train_rmse': 2.6378484269818214, 'train_mape': 9.906806945800781, 'test_mae': 2.841787815093994, 'test_rmse': 4.671383426793094, 'test_mape': 14.677268981933594}\n",
      "訓練層數：6  節點數：32 \n",
      "{'num_of_layers': 6, 'num_of_nodes': 32, 'train_mae': 1.5397034883499146, 'train_rmse': 2.3267355235202674, 'train_mape': 7.707613945007324, 'test_mae': 2.9691457748413086, 'test_rmse': 4.426101228572533, 'test_mape': 13.930706977844238}\n",
      "訓練層數：6  節點數：64 \n",
      "{'num_of_layers': 6, 'num_of_nodes': 64, 'train_mae': 1.0546808242797852, 'train_rmse': 2.17641386358455, 'train_mape': 5.463216781616211, 'test_mae': 3.072446823120117, 'test_rmse': 5.359550095080714, 'test_mape': 15.486693382263184}\n",
      "訓練層數：6  節點數：128 \n",
      "{'num_of_layers': 6, 'num_of_nodes': 128, 'train_mae': 1.5161031484603882, 'train_rmse': 2.2690746484937447, 'train_mape': 7.492891311645508, 'test_mae': 2.8401496410369873, 'test_rmse': 4.530096288672412, 'test_mape': 15.08590316772461}\n",
      "訓練層數：7  節點數：16 \n",
      "{'num_of_layers': 7, 'num_of_nodes': 16, 'train_mae': 1.6690089702606201, 'train_rmse': 2.479374585662492, 'train_mape': 8.473295211791992, 'test_mae': 3.067748785018921, 'test_rmse': 4.971116564031513, 'test_mape': 15.058148384094238}\n",
      "訓練層數：7  節點數：32 \n",
      "{'num_of_layers': 7, 'num_of_nodes': 32, 'train_mae': 1.5588326454162598, 'train_rmse': 2.395408780725353, 'train_mape': 7.845847129821777, 'test_mae': 3.0340797901153564, 'test_rmse': 4.69971086140266, 'test_mape': 14.569558143615723}\n",
      "訓練層數：7  節點數：64 \n",
      "{'num_of_layers': 7, 'num_of_nodes': 64, 'train_mae': 1.3293788433074951, 'train_rmse': 2.2619607693805825, 'train_mape': 7.378454685211182, 'test_mae': 3.162428855895996, 'test_rmse': 4.56929075117244, 'test_mape': 17.120134353637695}\n",
      "訓練層數：7  節點數：128 \n",
      "{'num_of_layers': 7, 'num_of_nodes': 128, 'train_mae': 1.203592300415039, 'train_rmse': 1.88814419748951, 'train_mape': 6.645533561706543, 'test_mae': 2.7650249004364014, 'test_rmse': 4.192449576723511, 'test_mape': 15.008267402648926}\n"
     ]
    }
   ],
   "source": [
    "for layers_count in hidden_layers:\n",
    "    for node_count in hidden_nodes:\n",
    "        print(f\"訓練層數：{layers_count}  節點數：{node_count} \")\n",
    "        result = build_model(layers_count, node_count)\n",
    "        results.append(result)\n",
    "        print(result)"
   ]
  },
  {
   "cell_type": "markdown",
   "id": "a486c4a5-cd74-4dbd-ab10-8f94e6c3402e",
   "metadata": {},
   "source": [
    "### Data frame"
   ]
  },
  {
   "cell_type": "code",
   "execution_count": 7,
   "id": "5e28051b-552c-4d49-b516-758921d573d8",
   "metadata": {},
   "outputs": [
    {
     "name": "stdout",
     "output_type": "stream",
     "text": [
      "\n",
      "訓練績效表現:\n",
      "    層數  節點數       MAE      RMSE       MAPE\n",
      "0    1   16  3.262439  4.561015  16.369982\n",
      "1    1   32  2.767871  3.883826  13.986146\n",
      "2    1   64  2.279723  3.283530  11.450716\n",
      "3    1  128  2.100504  3.036167  10.469404\n",
      "4    2   16  2.201044  3.116048  11.203763\n",
      "5    2   32  1.949404  2.825173   9.919171\n",
      "6    2   64  1.826602  2.707303   9.153197\n",
      "7    2  128  1.616964  2.463661   8.379547\n",
      "8    3   16  2.064284  2.909080  10.591621\n",
      "9    3   32  1.799650  2.687667   9.258734\n",
      "10   3   64  1.542369  2.414234   7.853667\n",
      "11   3  128  1.187061  1.860323   5.822185\n",
      "12   4   16  1.927105  2.869938   9.705064\n",
      "13   4   32  1.552275  2.353536   8.223660\n",
      "14   4   64  1.222523  1.950978   6.080668\n",
      "15   4  128  1.139250  1.937888   5.847597\n",
      "16   5   16  1.965626  2.873719  10.061539\n",
      "17   5   32  1.686996  2.561646   9.296263\n",
      "18   5   64  1.668357  2.431194   7.899959\n",
      "19   5  128  1.140933  1.667999   5.545121\n",
      "20   6   16  1.919060  2.637848   9.906807\n",
      "21   6   32  1.539703  2.326736   7.707614\n",
      "22   6   64  1.054681  2.176414   5.463217\n",
      "23   6  128  1.516103  2.269075   7.492891\n",
      "24   7   16  1.669009  2.479375   8.473295\n",
      "25   7   32  1.558833  2.395409   7.845847\n",
      "26   7   64  1.329379  2.261961   7.378455\n",
      "27   7  128  1.203592  1.888144   6.645534\n",
      "\n",
      "測試績效表現:\n",
      "    層數  節點數       MAE      RMSE       MAPE\n",
      "0    1   16  3.885950  4.912864  21.428675\n",
      "1    1   32  3.683199  4.855155  19.672661\n",
      "2    1   64  3.209524  4.680247  16.459949\n",
      "3    1  128  3.112744  4.817398  15.573626\n",
      "4    2   16  3.078266  4.664873  15.841887\n",
      "5    2   32  3.051314  4.577913  15.373033\n",
      "6    2   64  2.951293  4.739723  14.495757\n",
      "7    2  128  2.839819  4.456440  14.010281\n",
      "8    3   16  3.111407  5.108913  15.405820\n",
      "9    3   32  3.022632  4.778966  15.563718\n",
      "10   3   64  2.865244  4.354666  14.248809\n",
      "11   3  128  2.634071  3.905923  13.297634\n",
      "12   4   16  2.912613  4.595279  14.246881\n",
      "13   4   32  2.863825  4.591297  15.091572\n",
      "14   4   64  2.755293  4.039763  13.382746\n",
      "15   4  128  2.646210  4.384164  14.299632\n",
      "16   5   16  3.313970  5.182548  16.831423\n",
      "17   5   32  3.123358  5.037100  17.068750\n",
      "18   5   64  3.281734  4.707844  16.226547\n",
      "19   5  128  2.542169  3.727567  12.437016\n",
      "20   6   16  2.841788  4.671383  14.677269\n",
      "21   6   32  2.969146  4.426101  13.930707\n",
      "22   6   64  3.072447  5.359550  15.486693\n",
      "23   6  128  2.840150  4.530096  15.085903\n",
      "24   7   16  3.067749  4.971117  15.058148\n",
      "25   7   32  3.034080  4.699711  14.569558\n",
      "26   7   64  3.162429  4.569291  17.120134\n",
      "27   7  128  2.765025  4.192450  15.008267\n"
     ]
    }
   ],
   "source": [
    "train_results_df = pd.DataFrame([\n",
    "    {\n",
    "        '層數': r['num_of_layers'], '節點數': r['num_of_nodes'], \n",
    "        'MAE': r['train_mae'], 'RMSE': r['train_rmse'], 'MAPE': r['train_mape']\n",
    "    } for r in results\n",
    "])\n",
    "\n",
    "test_results_df = pd.DataFrame([\n",
    "    {\n",
    "        '層數': r['num_of_layers'], '節點數': r['num_of_nodes'], \n",
    "        'MAE': r['test_mae'], 'RMSE': r['test_rmse'], 'MAPE': r['test_mape']\n",
    "    } for r in results\n",
    "])\n",
    "\n",
    "print(\"\\n訓練績效表現:\")\n",
    "print(train_results_df)\n",
    "\n",
    "print(\"\\n測試績效表現:\")\n",
    "print(test_results_df)"
   ]
  },
  {
   "cell_type": "code",
   "execution_count": 12,
   "id": "5f4d2c98-8a92-458d-8812-eef6a6117f72",
   "metadata": {},
   "outputs": [],
   "source": [
    "train_results_df.to_excel('Q1-1.xlsx', sheet_name='Q1', index=True, startrow=1, startcol=1)\n",
    "test_results_df.to_excel('Q1-2.xlsx', sheet_name='Q2', index=True, startrow=1, startcol=8)"
   ]
  },
  {
   "cell_type": "markdown",
   "id": "8d02e404-2ca7-444e-b0c3-9391994b411b",
   "metadata": {},
   "source": [
    "### reference\n",
    "1. boston dataset: https://lib.stat.cmu.edu/datasets/boston\n",
    "2. Boston Housing Price dataset with Keras(kaggle): https://www.kaggle.com/code/shanekonaung/boston-housing-price-dataset-with-keras"
   ]
  }
 ],
 "metadata": {
  "kernelspec": {
   "display_name": "Python 3 (ipykernel)",
   "language": "python",
   "name": "python3"
  },
  "language_info": {
   "codemirror_mode": {
    "name": "ipython",
    "version": 3
   },
   "file_extension": ".py",
   "mimetype": "text/x-python",
   "name": "python",
   "nbconvert_exporter": "python",
   "pygments_lexer": "ipython3",
   "version": "3.11.0rc1"
  }
 },
 "nbformat": 4,
 "nbformat_minor": 5
}
